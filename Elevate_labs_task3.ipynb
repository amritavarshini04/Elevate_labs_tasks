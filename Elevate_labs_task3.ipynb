{
  "nbformat": 4,
  "nbformat_minor": 0,
  "metadata": {
    "colab": {
      "provenance": [],
      "authorship_tag": "ABX9TyOhhLck4qlZpl2uYODG5B1K",
      "include_colab_link": true
    },
    "kernelspec": {
      "name": "python3",
      "display_name": "Python 3"
    },
    "language_info": {
      "name": "python"
    }
  },
  "cells": [
    {
      "cell_type": "markdown",
      "metadata": {
        "id": "view-in-github",
        "colab_type": "text"
      },
      "source": [
        "<a href=\"https://colab.research.google.com/github/amritavarshini04/Elevate_labs_tasks/blob/main/Elevate_labs_task3.ipynb\" target=\"_parent\"><img src=\"https://colab.research.google.com/assets/colab-badge.svg\" alt=\"Open In Colab\"/></a>"
      ]
    },
    {
      "cell_type": "markdown",
      "source": [
        "Importing libraries"
      ],
      "metadata": {
        "id": "G6Ycdm2nEOUh"
      }
    },
    {
      "cell_type": "code",
      "execution_count": 1,
      "metadata": {
        "id": "UZHr5RgJEIpJ"
      },
      "outputs": [],
      "source": [
        "import pandas as pd\n",
        "import numpy as np\n",
        "import matplotlib.pyplot as plt\n",
        "from sklearn.model_selection import train_test_split\n",
        "from sklearn.linear_model import LinearRegression\n",
        "from sklearn.metrics import mean_absolute_error, mean_squared_error, r2_score"
      ]
    },
    {
      "cell_type": "markdown",
      "source": [
        "importing dataset"
      ],
      "metadata": {
        "id": "h7IREZYZEXCi"
      }
    },
    {
      "cell_type": "code",
      "source": [
        "df = pd.read_csv('Housing.csv')"
      ],
      "metadata": {
        "id": "zeivvq8EEZgO"
      },
      "execution_count": 2,
      "outputs": []
    },
    {
      "cell_type": "markdown",
      "source": [
        "Preprocessing (convert categorical to numerical)\n"
      ],
      "metadata": {
        "id": "xggpUlqREn59"
      }
    },
    {
      "cell_type": "code",
      "source": [
        "df = pd.get_dummies(df, drop_first=True)"
      ],
      "metadata": {
        "id": "aIR3x4kQErpM"
      },
      "execution_count": 3,
      "outputs": []
    },
    {
      "cell_type": "markdown",
      "source": [
        "Simple Linear Regression"
      ],
      "metadata": {
        "id": "wHfn2tc-Ev7b"
      }
    },
    {
      "cell_type": "code",
      "source": [
        "X_simple = df[['area']]\n",
        "y = df['price']\n",
        "X_train_s, X_test_s, y_train_s, y_test_s = train_test_split(X_simple, y, test_size=0.2, random_state=42)"
      ],
      "metadata": {
        "id": "T5gZgLy0EyCn"
      },
      "execution_count": 4,
      "outputs": []
    },
    {
      "cell_type": "code",
      "source": [
        "model_simple = LinearRegression()\n",
        "model_simple.fit(X_train_s, y_train_s)\n",
        "y_pred_s = model_simple.predict(X_test_s)"
      ],
      "metadata": {
        "id": "Gk0zWx0NE0sn"
      },
      "execution_count": 5,
      "outputs": []
    },
    {
      "cell_type": "code",
      "source": [
        "print(\"Simple Linear Regression:\")\n",
        "print(\"MAE:\", mean_absolute_error(y_test_s, y_pred_s))\n",
        "print(\"MSE:\", mean_squared_error(y_test_s, y_pred_s))\n",
        "print(\"R² Score:\", r2_score(y_test_s, y_pred_s))"
      ],
      "metadata": {
        "colab": {
          "base_uri": "https://localhost:8080/"
        },
        "id": "uj7yxJw7E4mb",
        "outputId": "5db76b42-7b6c-4c6e-b9ca-6c04951db6f0"
      },
      "execution_count": 6,
      "outputs": [
        {
          "output_type": "stream",
          "name": "stdout",
          "text": [
            "Simple Linear Regression:\n",
            "MAE: 1474748.1337969352\n",
            "MSE: 3675286604768.185\n",
            "R² Score: 0.27287851871974644\n"
          ]
        }
      ]
    },
    {
      "cell_type": "markdown",
      "source": [
        "Plot"
      ],
      "metadata": {
        "id": "-xlx6NraE7gl"
      }
    },
    {
      "cell_type": "code",
      "source": [
        "plt.scatter(X_test_s, y_test_s, color='blue')\n",
        "plt.plot(X_test_s, y_pred_s, color='red')\n",
        "plt.title('Simple Linear Regression (Area vs Price)')\n",
        "plt.xlabel('Area')\n",
        "plt.ylabel('Price')\n",
        "plt.show()"
      ],
      "metadata": {
        "colab": {
          "base_uri": "https://localhost:8080/",
          "height": 472
        },
        "id": "8xQ3EaauE8oV",
        "outputId": "fb1c558c-63f8-4bac-8390-2f6392ba3f40"
      },
      "execution_count": 7,
      "outputs": [
        {
          "output_type": "display_data",
          "data": {
            "text/plain": [
              "<Figure size 640x480 with 1 Axes>"
            ],
            "image/png": "[encoded data removed]"
          },
          "metadata": {}
        }
      ]
    },
    {
      "cell_type": "markdown",
      "source": [
        "Multiple Linear Regression"
      ],
      "metadata": {
        "id": "a_E7TAD_E_7b"
      }
    },
    {
      "cell_type": "code",
      "source": [
        "X = df.drop('price', axis=1)\n",
        "y = df['price']\n",
        "X_train, X_test, y_train, y_test = train_test_split(X, y, test_size=0.2, random_state=42)"
      ],
      "metadata": {
        "id": "vejexscTFB5V"
      },
      "execution_count": 8,
      "outputs": []
    },
    {
      "cell_type": "code",
      "source": [
        "model_multiple = LinearRegression()\n",
        "model_multiple.fit(X_train, y_train)\n",
        "y_pred = model_multiple.predict(X_test)"
      ],
      "metadata": {
        "id": "AfRrqcdAFFSX"
      },
      "execution_count": 9,
      "outputs": []
    },
    {
      "cell_type": "code",
      "source": [
        "print(\"\\nMultiple Linear Regression:\")\n",
        "print(\"MAE:\", mean_absolute_error(y_test, y_pred))\n",
        "print(\"MSE:\", mean_squared_error(y_test, y_pred))\n",
        "print(\"R² Score:\", r2_score(y_test, y_pred))"
      ],
      "metadata": {
        "colab": {
          "base_uri": "https://localhost:8080/"
        },
        "id": "r9gXijUiFJaI",
        "outputId": "03a09975-054f-4880-df37-354d6730de7f"
      },
      "execution_count": 10,
      "outputs": [
        {
          "output_type": "stream",
          "name": "stdout",
          "text": [
            "\n",
            "Multiple Linear Regression:\n",
            "MAE: 970043.4039201636\n",
            "MSE: 1754318687330.6638\n",
            "R² Score: 0.6529242642153184\n"
          ]
        }
      ]
    },
    {
      "cell_type": "markdown",
      "source": [
        "Coefficients interpretation\n"
      ],
      "metadata": {
        "id": "dEgW80cFFLs5"
      }
    },
    {
      "cell_type": "code",
      "source": [
        "coeff_df = pd.DataFrame(model_multiple.coef_, X.columns, columns=['Coefficient'])\n",
        "print(\"\\nCoefficients:\")\n",
        "print(coeff_df)"
      ],
      "metadata": {
        "colab": {
          "base_uri": "https://localhost:8080/"
        },
        "id": "p5z6w0OfFNod",
        "outputId": "337e1f1b-4c26-4270-8d02-e7957c245f91"
      },
      "execution_count": 11,
      "outputs": [
        {
          "output_type": "stream",
          "name": "stdout",
          "text": [
            "\n",
            "Coefficients:\n",
            "                                  Coefficient\n",
            "area                             2.359688e+02\n",
            "bedrooms                         7.677870e+04\n",
            "bathrooms                        1.094445e+06\n",
            "stories                          4.074766e+05\n",
            "parking                          2.248419e+05\n",
            "mainroad_yes                     3.679199e+05\n",
            "guestroom_yes                    2.316100e+05\n",
            "basement_yes                     3.902512e+05\n",
            "hotwaterheating_yes              6.846499e+05\n",
            "airconditioning_yes              7.914267e+05\n",
            "prefarea_yes                     6.298906e+05\n",
            "furnishingstatus_semi-furnished -1.268818e+05\n",
            "furnishingstatus_unfurnished    -4.136451e+05\n"
          ]
        }
      ]
    }
  ]
}